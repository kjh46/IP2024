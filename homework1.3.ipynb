{
 "cells": [
  {
   "cell_type": "code",
   "execution_count": 9,
   "metadata": {},
   "outputs": [],
   "source": [
    "import cv2\n",
    "import numpy as np"
   ]
  },
  {
   "cell_type": "code",
   "execution_count": 10,
   "metadata": {},
   "outputs": [],
   "source": [
    "# 기본 설정\n",
    "drawing = False  # true if mouse is pressed\n",
    "mode = True  # if True, draw rectangle. Press 'm' to toggle to curve\n",
    "ix, iy = -1, -1  # 초기 마우스 좌표\n",
    "font = cv2.FONT_HERSHEY_SIMPLEX\n"
   ]
  },
  {
   "cell_type": "code",
   "execution_count": 11,
   "metadata": {},
   "outputs": [],
   "source": [
    "# 이미지 읽기\n",
    "img = cv2.imread(\"cat.jpg\")\n",
    "img_copy = img.copy()  # 원본 이미지를 유지하기 위해 복사본 생성"
   ]
  },
  {
   "cell_type": "code",
   "execution_count": 12,
   "metadata": {},
   "outputs": [],
   "source": [
    "# 마우스 콜백 함수\n",
    "def draw_circle(event, x, y, flags, param):\n",
    "    global ix, iy, drawing, mode, img, img_copy\n",
    "\n",
    "    if event == cv2.EVENT_LBUTTONDOWN:  # 마우스 왼쪽 버튼을 눌렀을 때\n",
    "        drawing = True\n",
    "        ix, iy = x, y  # 시작 좌표 저장\n",
    "    elif event == cv2.EVENT_MOUSEMOVE:  # 마우스 이동 시\n",
    "        if drawing:\n",
    "            # 원본 이미지를 매번 새로 복사하여 덮어쓰기 (이전 도형 지우기)\n",
    "            img = img_copy.copy()\n",
    "            if mode:  # 사각형 모드일 때\n",
    "                cv2.rectangle(img, (ix, iy), (x, y), (0, 0, 255), -1)\n",
    "                # 마우스 시작점과 현재 위치까지 좌표 출력\n",
    "                text = f'Mouse Position ({ix}, {iy}) - ({x}, {y})'\n",
    "                cv2.putText(img, text, (10, 50), font, 1, (0, 0, 0), 2, cv2.LINE_AA)\n",
    "            else:  # 원 모드일 때\n",
    "                cv2.circle(img, (x, y), 5, (0, 0, 255), -1)\n",
    "                # 마우스 시작점과 현재 위치까지 좌표 출력\n",
    "                text = f'Mouse Position ({ix}, {iy}) - ({x}, {y})'\n",
    "                cv2.putText(img, text, (10, 50), font, 1, (0, 0, 0), 2, cv2.LINE_AA)\n",
    "    elif event == cv2.EVENT_LBUTTONUP:  # 마우스 왼쪽 버튼을 뗐을 때\n",
    "        drawing = False\n",
    "        # 도형이 마우스 버튼 뗐을 때 사라지도록 이미지 초기화\n",
    "        img = img_copy.copy()\n",
    "        # 마우스를 뗐을 때 최종 좌표 출력 (사각형 표시 X)\n",
    "        text = f'Mouse Position ({ix}, {iy}) - ({x}, {y})'\n",
    "        cv2.putText(img, text, (10, 50), font, 1, (0, 0, 0), 2, cv2.LINE_AA)\n"
   ]
  },
  {
   "cell_type": "code",
   "execution_count": 13,
   "metadata": {},
   "outputs": [],
   "source": [
    "# 트랙바 콜백 함수 (기능 없음)\n",
    "def nothing(x):\n",
    "    pass"
   ]
  },
  {
   "cell_type": "code",
   "execution_count": 14,
   "metadata": {},
   "outputs": [],
   "source": [
    "# 윈도우 생성 및 설정\n",
    "cv2.namedWindow('image')\n",
    "cv2.setMouseCallback('image', draw_circle)\n"
   ]
  },
  {
   "cell_type": "code",
   "execution_count": 15,
   "metadata": {},
   "outputs": [],
   "source": [
    "# 트랙바 생성\n",
    "cv2.createTrackbar('value', 'image', 0, 100, nothing)"
   ]
  },
  {
   "cell_type": "code",
   "execution_count": 16,
   "metadata": {},
   "outputs": [],
   "source": [
    "# 메인 루프\n",
    "while True:\n",
    "    cv2.imshow('image', img)\n",
    "    k = cv2.waitKey(1) & 0xFF\n",
    "    if k == ord('m'):  # 'm' 키를 누르면 모드를 변경\n",
    "        mode = not mode\n",
    "    elif k == 27:  # ESC 키를 누르면 종료\n",
    "        break\n",
    "\n",
    "cv2.destroyAllWindows()"
   ]
  }
 ],
 "metadata": {
  "kernelspec": {
   "display_name": "IAI2024",
   "language": "python",
   "name": "python3"
  },
  "language_info": {
   "codemirror_mode": {
    "name": "ipython",
    "version": 3
   },
   "file_extension": ".py",
   "mimetype": "text/x-python",
   "name": "python",
   "nbconvert_exporter": "python",
   "pygments_lexer": "ipython3",
   "version": "3.8.19"
  }
 },
 "nbformat": 4,
 "nbformat_minor": 2
}
